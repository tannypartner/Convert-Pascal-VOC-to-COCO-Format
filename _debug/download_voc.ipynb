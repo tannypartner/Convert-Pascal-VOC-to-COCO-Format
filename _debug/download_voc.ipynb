{
 "metadata": {
  "language_info": {
   "codemirror_mode": {
    "name": "ipython",
    "version": 3
   },
   "file_extension": ".py",
   "mimetype": "text/x-python",
   "name": "python",
   "nbconvert_exporter": "python",
   "pygments_lexer": "ipython3",
   "version": "3.6.10-final"
  },
  "orig_nbformat": 2,
  "kernelspec": {
   "name": "python_defaultSpec_1599307440944",
   "display_name": "Python 3.6.10 64-bit ('3.6.10': pyenv)"
  }
 },
 "nbformat": 4,
 "nbformat_minor": 2,
 "cells": [
  {
   "cell_type": "code",
   "execution_count": 1,
   "metadata": {},
   "outputs": [],
   "source": [
    "import torchvision"
   ]
  },
  {
   "cell_type": "code",
   "execution_count": 15,
   "metadata": {
    "tags": []
   },
   "outputs": [
    {
     "output_type": "stream",
     "name": "stdout",
     "text": "Using downloaded and verified file: ./datasets/VOC2007/VOCtrainval_06-Nov-2007.tar\nUsing downloaded and verified file: ./datasets/VOC2007/VOCtrainval_06-Nov-2007.tar\nUsing downloaded and verified file: ./datasets/VOC2007/VOCtest_06-Nov-2007.tar\nUsing downloaded and verified file: ./datasets/VOC2007/VOCtrainval_06-Nov-2007.tar\nDataset VOCDetection\n    Number of datapoints: 2501\n    Root location: ./datasets/VOC2007 Dataset VOCDetection\n    Number of datapoints: 2510\n    Root location: ./datasets/VOC2007 Dataset VOCDetection\n    Number of datapoints: 5011\n    Root location: ./datasets/VOC2007 Dataset VOCDetection\n    Number of datapoints: 4952\n    Root location: ./datasets/VOC2007\n"
    }
   ],
   "source": [
    "# object detection\n",
    "voc2007train = torchvision.datasets.VOCDetection('./datasets/VOC2007', year='2007', image_set='train', download=True)\n",
    "voc2007val = torchvision.datasets.VOCDetection('./datasets/VOC2007', year='2007', image_set='val', download=True)\n",
    "voc2007test = torchvision.datasets.VOCDetection('./datasets/VOC2007', year='2007', image_set='test', download=True)\n",
    "voc2007trainval = torchvision.datasets.VOCDetection('./datasets/VOC2007', year='2007', image_set='trainval', download=True)\n",
    "print(voc2007train, voc2007val, voc2007trainval, voc2007test)"
   ]
  },
  {
   "cell_type": "code",
   "execution_count": 17,
   "metadata": {
    "tags": []
   },
   "outputs": [
    {
     "output_type": "stream",
     "name": "stdout",
     "text": "Using downloaded and verified file: ./datasets/VOC2007/VOCtrainval_06-Nov-2007.tar\nUsing downloaded and verified file: ./datasets/VOC2007/VOCtrainval_06-Nov-2007.tar\nUsing downloaded and verified file: ./datasets/VOC2007/VOCtrainval_06-Nov-2007.tar\nUsing downloaded and verified file: ./datasets/VOC2007/VOCtest_06-Nov-2007.tar\nDataset VOCSegmentation\n    Number of datapoints: 209\n    Root location: ./datasets/VOC2007 Dataset VOCSegmentation\n    Number of datapoints: 213\n    Root location: ./datasets/VOC2007 Dataset VOCSegmentation\n    Number of datapoints: 422\n    Root location: ./datasets/VOC2007 Dataset VOCSegmentation\n    Number of datapoints: 210\n    Root location: ./datasets/VOC2007\n"
    }
   ],
   "source": [
    "# Segmentation\n",
    "vocSeg2007train = torchvision.datasets.VOCSegmentation('./datasets/VOC2007', year='2007', image_set='train', download=True)\n",
    "vocSeg2007val = torchvision.datasets.VOCSegmentation('./datasets/VOC2007', year='2007', image_set='val', download=True)\n",
    "vocSeg2007trainval = torchvision.datasets.VOCSegmentation('./datasets/VOC2007', year='2007', image_set='trainval', download=True)\n",
    "vocSeg2007test = torchvision.datasets.VOCSegmentation('./datasets/VOC2007', year='2007', image_set='test', download=True)\n",
    "print(vocSeg2007train, vocSeg2007val, vocSeg2007trainval, vocSeg2007test)"
   ]
  },
  {
   "cell_type": "code",
   "execution_count": null,
   "metadata": {},
   "outputs": [],
   "source": []
  }
 ]
}